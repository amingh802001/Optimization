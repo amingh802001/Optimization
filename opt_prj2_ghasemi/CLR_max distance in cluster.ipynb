{
 "cells": [
  {
   "cell_type": "code",
   "execution_count": 1,
   "id": "73c4b9be",
   "metadata": {},
   "outputs": [],
   "source": [
    "import math\n",
    "\n",
    "with open('DebrisFlow.txt') as f:\n",
    "    lines = f.readlines()\n",
    "    \n",
    "X= []\n",
    "Y= []\n",
    "for line in lines:\n",
    "    a = str.split(line)\n",
    "    a[0] = float(a[0])\n",
    "    a[1] = float(a[1])\n",
    "    X.append(a[0])\n",
    "    Y.append(a[1])\n",
    "\n",
    "X= X[:30]\n",
    "Y= Y[:30]\n",
    "import pyomo.environ as pyo\n",
    "model= pyo.ConcreteModel()\n",
    "\n",
    "I = [i for i in range(len(X))]\n",
    "model.Iset= pyo.Set(initialize= I)\n",
    "\n",
    "def X_(model, i):\n",
    "    return X[i]\n",
    "model.X= pyo.Param(model.Iset, rule= X_)\n",
    "\n",
    "def Y_(model, i):\n",
    "    return Y[i]\n",
    "model.Y= pyo.Param(model.Iset, rule= Y_)\n",
    "\n",
    "def cd_(model, i,j):\n",
    "    return math.sqrt((X[i]-X[j])**2 + (Y[i]-Y[j])**2)\n",
    "model.cd_= pyo.Param(model.Iset, model.Iset, rule= cd_)"
   ]
  },
  {
   "cell_type": "markdown",
   "id": "ac21112c",
   "metadata": {},
   "source": [
    "# Clusterning Params and Vars "
   ]
  },
  {
   "cell_type": "code",
   "execution_count": 2,
   "id": "a2ba2b59",
   "metadata": {},
   "outputs": [],
   "source": [
    "B = [0,1,2]\n",
    "model.Bset= pyo.Set(initialize= B)"
   ]
  },
  {
   "cell_type": "code",
   "execution_count": 3,
   "id": "94f4a3cd",
   "metadata": {},
   "outputs": [],
   "source": [
    "model.dist= pyo.Var(model.Iset, domain= pyo.NonNegativeReals)"
   ]
  },
  {
   "cell_type": "code",
   "execution_count": 4,
   "id": "99c22c6d",
   "metadata": {},
   "outputs": [],
   "source": [
    "model.delta= pyo.Var(model.Iset, model.Bset, domain= pyo.Binary)"
   ]
  },
  {
   "cell_type": "code",
   "execution_count": 5,
   "id": "96eab3c6",
   "metadata": {},
   "outputs": [],
   "source": [
    "M= [6.5 for y in Y]\n",
    "def M_(model,i):\n",
    "    return M[i]\n",
    "model.M= pyo.Param(model.Iset, rule= M_)"
   ]
  },
  {
   "cell_type": "code",
   "execution_count": 6,
   "id": "777c4394",
   "metadata": {},
   "outputs": [],
   "source": [
    "model.c = pyo.Var(model.Bset, domain=pyo.NonNegativeReals)\n",
    "model.d = pyo.Var(model.Bset, domain=pyo.Reals)"
   ]
  },
  {
   "cell_type": "markdown",
   "id": "c0eb81cc",
   "metadata": {},
   "source": [
    "# max distance in cluster  "
   ]
  },
  {
   "cell_type": "code",
   "execution_count": 7,
   "id": "85afb6e5",
   "metadata": {},
   "outputs": [],
   "source": [
    "model.cd= pyo.Var(model.Bset, domain= pyo.NonNegativeReals)"
   ]
  },
  {
   "cell_type": "code",
   "execution_count": 8,
   "id": "e74e9fe1",
   "metadata": {},
   "outputs": [],
   "source": [
    "model.gama= pyo.Var(model.Iset, model.Iset, model.Bset, domain= pyo.Binary)"
   ]
  },
  {
   "cell_type": "code",
   "execution_count": 9,
   "id": "03c4dea6",
   "metadata": {},
   "outputs": [],
   "source": [
    "def gama_const(model, i,j, b):\n",
    "        if i==j:\n",
    "            return pyo.Constraint.Skip\n",
    "        else:\n",
    "            return model.gama[i,j,b]>= model.delta[i,b]+model.delta[j,b]-1\n",
    "model.gama_const= pyo.Constraint(model.Iset, model.Iset, model.Bset, rule= gama_const)"
   ]
  },
  {
   "cell_type": "code",
   "execution_count": 10,
   "id": "a9109946",
   "metadata": {},
   "outputs": [],
   "source": [
    "def cd_const(model, i,j, b):\n",
    "    if i==j:\n",
    "        return pyo.Constraint.Skip\n",
    "    else:\n",
    "        return model.cd[b]>= model.gama[i,j,b]*(model.cd_[i,j])\n",
    "model.cd_const= pyo.Constraint(model.Iset, model.Iset, model.Bset, rule= cd_const)"
   ]
  },
  {
   "cell_type": "markdown",
   "id": "defbd3a3",
   "metadata": {},
   "source": [
    "Constraints"
   ]
  },
  {
   "cell_type": "code",
   "execution_count": 11,
   "id": "9e948d00",
   "metadata": {},
   "outputs": [],
   "source": [
    "def const_1(model, i, b):\n",
    "    return model.Y[i]-(model.c[b]*model.X[i] + model.d[b])<= model.dist[i]+ model.M[i]*(1-model.delta[i,b])\n",
    "model.const_1= pyo.Constraint(model.Iset, model.Bset, rule= const_1)"
   ]
  },
  {
   "cell_type": "code",
   "execution_count": 12,
   "id": "fa8c64a1",
   "metadata": {},
   "outputs": [],
   "source": [
    "def const_2(model, i, b):\n",
    "    return (model.c[b]*model.X[i] + model.d[b])- model.Y[i]<= model.dist[i]+ model.M[i]*(1-model.delta[i,b])\n",
    "model.const_2= pyo.Constraint(model.Iset, model.Bset, rule= const_2)"
   ]
  },
  {
   "cell_type": "code",
   "execution_count": 13,
   "id": "8a9d4d82",
   "metadata": {},
   "outputs": [],
   "source": [
    "def delta_(model, i):\n",
    "    return sum(model.delta[i,b] for b in model.Bset)==1\n",
    "model.const_delta= pyo.Constraint(model.Iset, rule=delta_)"
   ]
  },
  {
   "cell_type": "markdown",
   "id": "20e59148",
   "metadata": {},
   "source": [
    "Objective"
   ]
  },
  {
   "cell_type": "code",
   "execution_count": 14,
   "id": "2b4d344f",
   "metadata": {},
   "outputs": [],
   "source": [
    "\n",
    "def obj(model):\n",
    "    return sum(model.dist[i] for i in model.Iset) + sum(model.cd[b] for b in model.Bset)\n",
    "model.obj= pyo.Objective(rule=obj, sense= pyo.minimize)"
   ]
  },
  {
   "cell_type": "markdown",
   "id": "c3a7c38e",
   "metadata": {},
   "source": [
    "Solve and Result"
   ]
  },
  {
   "cell_type": "code",
   "execution_count": 15,
   "id": "286c42de",
   "metadata": {},
   "outputs": [],
   "source": [
    "opt = pyo.SolverFactory('glpk') \n",
    "result=opt.solve(model,'glpk')"
   ]
  },
  {
   "cell_type": "code",
   "execution_count": 16,
   "id": "627c2455",
   "metadata": {},
   "outputs": [
    {
     "name": "stdout",
     "output_type": "stream",
     "text": [
      "173.60904557536142\n"
     ]
    }
   ],
   "source": [
    "print(pyo.value(model.obj))"
   ]
  },
  {
   "cell_type": "markdown",
   "id": "32e2a88b",
   "metadata": {},
   "source": [
    "# Visualization"
   ]
  },
  {
   "cell_type": "code",
   "execution_count": 17,
   "id": "4e670e36",
   "metadata": {},
   "outputs": [],
   "source": [
    "delta_results= [pyo.value(model.delta[i,b]) for i in model.Iset for b in model.Bset]"
   ]
  },
  {
   "cell_type": "code",
   "execution_count": 18,
   "id": "4a280a56",
   "metadata": {},
   "outputs": [],
   "source": [
    "Cluster= {}\n",
    "for b in model.Bset:\n",
    "    Cluster[b]= {}\n",
    "    Cluster[b]['X']= []\n",
    "    Cluster[b]['Y']= []\n",
    "for b in model.Bset:\n",
    "    for i in model.Iset:\n",
    "        if pyo.value(model.delta[i, b]) == 1:\n",
    "            Cluster[b]['X'].append(model.X[i])\n",
    "            Cluster[b]['Y'].append(model.Y[i])"
   ]
  },
  {
   "cell_type": "code",
   "execution_count": 19,
   "id": "e68242e4",
   "metadata": {},
   "outputs": [],
   "source": [
    "C= {}\n",
    "D= {}\n",
    "for b in model.Bset:\n",
    "    C[b]= pyo.value(model.c[b])\n",
    "    D[b]= pyo.value(model.d[b])"
   ]
  },
  {
   "cell_type": "code",
   "execution_count": 20,
   "id": "65c38a1d",
   "metadata": {},
   "outputs": [
    {
     "name": "stdout",
     "output_type": "stream",
     "text": [
      "0.06\n"
     ]
    }
   ],
   "source": [
    "print(round(0.0573, 2))"
   ]
  },
  {
   "cell_type": "code",
   "execution_count": 21,
   "id": "74856886",
   "metadata": {},
   "outputs": [],
   "source": [
    "c_results= [pyo.value(model.c[b]) for b in model.Bset]\n",
    "d_results= [pyo.value(model.d[b]) for b in model.Bset]"
   ]
  },
  {
   "cell_type": "code",
   "execution_count": 22,
   "id": "36fbff80",
   "metadata": {},
   "outputs": [
    {
     "name": "stdout",
     "output_type": "stream",
     "text": [
      "[0.0831053540992196, 0.08310535409922, 0.0497151718401942]\n"
     ]
    }
   ],
   "source": [
    "print(c_results)"
   ]
  },
  {
   "cell_type": "code",
   "execution_count": 23,
   "id": "c3d51c7b",
   "metadata": {},
   "outputs": [
    {
     "name": "stdout",
     "output_type": "stream",
     "text": [
      "0.033\n",
      "8.025\n"
     ]
    }
   ],
   "source": [
    "print(round(max(c_results)-min(c_results),3))\n",
    "print(round(max(d_results)-min(d_results),3))"
   ]
  },
  {
   "cell_type": "code",
   "execution_count": 24,
   "id": "55f4188c",
   "metadata": {},
   "outputs": [],
   "source": [
    "import matplotlib.pyplot as plt"
   ]
  },
  {
   "cell_type": "code",
   "execution_count": 25,
   "id": "6d6275d9",
   "metadata": {},
   "outputs": [
    {
     "data": {
      "image/png": "[encoded data removed]",
      "text/plain": [
       "<Figure size 640x480 with 1 Axes>"
      ]
     },
     "metadata": {},
     "output_type": "display_data"
    }
   ],
   "source": [
    "shape= ['o','+','^','*']\n",
    "color= ['r','b','k','g']\n",
    "count= 0\n",
    "for b in model.Bset:\n",
    "    S= shape[count]+':'+color[count]\n",
    "    plt.plot(Cluster[b]['X'], Cluster[b]['Y'], shape[count])\n",
    "    plt.plot(Cluster[b]['X'], [x*C[b]+D[b] for x in Cluster[b]['X']],color[count])\n",
    "    count+= 1\n",
    "    \n",
    "plt.show()"
   ]
  },
  {
   "cell_type": "code",
   "execution_count": null,
   "id": "493f6b4e",
   "metadata": {},
   "outputs": [],
   "source": []
  }
 ],
 "metadata": {
  "kernelspec": {
   "display_name": "Python 3 (ipykernel)",
   "language": "python",
   "name": "python3"
  },
  "language_info": {
   "codemirror_mode": {
    "name": "ipython",
    "version": 3
   },
   "file_extension": ".py",
   "mimetype": "text/x-python",
   "name": "python",
   "nbconvert_exporter": "python",
   "pygments_lexer": "ipython3",
   "version": "3.10.9"
  }
 },
 "nbformat": 4,
 "nbformat_minor": 5
}
