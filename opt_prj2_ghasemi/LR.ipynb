{
 "cells": [
  {
   "cell_type": "markdown",
   "id": "26a5ac38",
   "metadata": {},
   "source": [
    "# Data"
   ]
  },
  {
   "cell_type": "code",
   "execution_count": 1,
   "id": "6b88df73",
   "metadata": {},
   "outputs": [],
   "source": [
    "with open('DebrisFlow.txt') as f:\n",
    "    lines = f.readlines()"
   ]
  },
  {
   "cell_type": "code",
   "execution_count": 2,
   "id": "6ba25314",
   "metadata": {},
   "outputs": [
    {
     "name": "stdout",
     "output_type": "stream",
     "text": [
      "44\n"
     ]
    }
   ],
   "source": [
    "print(len(lines))"
   ]
  },
  {
   "cell_type": "code",
   "execution_count": 3,
   "id": "47f2ba68",
   "metadata": {},
   "outputs": [],
   "source": [
    "X= []\n",
    "Y= []\n",
    "for line in lines:\n",
    "    a = str.split(line)\n",
    "    a[0] = float(a[0])\n",
    "    a[1] = float(a[1])\n",
    "    X.append(a[0])\n",
    "    Y.append(a[1])\n"
   ]
  },
  {
   "cell_type": "code",
   "execution_count": 4,
   "id": "9eefa5c8",
   "metadata": {},
   "outputs": [],
   "source": [
    "import pyomo.environ as pyo\n",
    "model= pyo.ConcreteModel()"
   ]
  },
  {
   "cell_type": "markdown",
   "id": "cb483f5b",
   "metadata": {},
   "source": [
    "Sets and Parameters"
   ]
  },
  {
   "cell_type": "code",
   "execution_count": 5,
   "id": "8d164461",
   "metadata": {},
   "outputs": [],
   "source": [
    "I = [i for i in range(len(X))]\n",
    "model.Iset= pyo.Set(initialize= I)"
   ]
  },
  {
   "cell_type": "code",
   "execution_count": 6,
   "id": "95f80ffe",
   "metadata": {},
   "outputs": [],
   "source": [
    "def X_(model, i):\n",
    "    return X[i]\n",
    "\n",
    "model.X= pyo.Param(model.Iset, rule= X_)"
   ]
  },
  {
   "cell_type": "code",
   "execution_count": 7,
   "id": "9da2f9e3",
   "metadata": {},
   "outputs": [],
   "source": [
    "def Y_(model, i):\n",
    "    return Y[i]\n",
    "\n",
    "model.Y= pyo.Param(model.Iset, rule= Y_)"
   ]
  },
  {
   "cell_type": "markdown",
   "id": "bdc39f57",
   "metadata": {},
   "source": [
    "Variables"
   ]
  },
  {
   "cell_type": "code",
   "execution_count": 8,
   "id": "a2e4a757",
   "metadata": {},
   "outputs": [],
   "source": [
    "model.delta = pyo.Var(model.Iset, domain= pyo.NonNegativeReals)\n",
    "model.c = pyo.Var(domain=pyo.NonNegativeReals)\n",
    "model.d = pyo.Var(domain=pyo.Reals)"
   ]
  },
  {
   "cell_type": "markdown",
   "id": "02c544c0",
   "metadata": {},
   "source": [
    "Constraints"
   ]
  },
  {
   "cell_type": "code",
   "execution_count": 9,
   "id": "0eef2bee",
   "metadata": {},
   "outputs": [],
   "source": [
    "def const_1(model, i):\n",
    "    return model.Y[i]-(model.c*model.X[i] + model.d)<= model.delta[i]\n",
    "model.const_1= pyo.Constraint(model.Iset, rule= const_1)"
   ]
  },
  {
   "cell_type": "code",
   "execution_count": 10,
   "id": "aa7b7348",
   "metadata": {},
   "outputs": [],
   "source": [
    "def const_2(model, i):\n",
    "    return (model.c*model.X[i] + model.d)-model.Y[i]<= model.delta[i]\n",
    "model.const_2= pyo.Constraint(model.Iset, rule= const_2)"
   ]
  },
  {
   "cell_type": "markdown",
   "id": "aa1d3b11",
   "metadata": {},
   "source": [
    "Objective"
   ]
  },
  {
   "cell_type": "code",
   "execution_count": 11,
   "id": "93a458f4",
   "metadata": {},
   "outputs": [],
   "source": [
    "def obj(model):\n",
    "    return sum(model.delta[i] for i in model.Iset)\n",
    "model.obj= pyo.Objective(rule=obj, sense= pyo.minimize)"
   ]
  },
  {
   "cell_type": "markdown",
   "id": "64c3bcb4",
   "metadata": {},
   "source": [
    "Solve and Result"
   ]
  },
  {
   "cell_type": "code",
   "execution_count": 12,
   "id": "88a02e87",
   "metadata": {},
   "outputs": [],
   "source": [
    "opt = pyo.SolverFactory('glpk')\n",
    "result=opt.solve(model,'glpk')"
   ]
  },
  {
   "cell_type": "code",
   "execution_count": 13,
   "id": "a9a8d7ad",
   "metadata": {},
   "outputs": [
    {
     "name": "stdout",
     "output_type": "stream",
     "text": [
      "86.82624975816283\n"
     ]
    }
   ],
   "source": [
    "print(pyo.value(model.obj))"
   ]
  },
  {
   "cell_type": "code",
   "execution_count": 14,
   "id": "92276d39",
   "metadata": {},
   "outputs": [],
   "source": [
    "c_result= pyo.value(model.c)\n",
    "d_result= pyo.value(model.d)"
   ]
  },
  {
   "cell_type": "code",
   "execution_count": 15,
   "id": "fe32c1b7",
   "metadata": {},
   "outputs": [
    {
     "name": "stdout",
     "output_type": "stream",
     "text": [
      "0.0776222495248608\n",
      "-2.06102527267168\n"
     ]
    }
   ],
   "source": [
    "print(c_result)\n",
    "print(d_result)"
   ]
  },
  {
   "cell_type": "markdown",
   "id": "b4975bf2",
   "metadata": {},
   "source": [
    "# Visualization"
   ]
  },
  {
   "cell_type": "code",
   "execution_count": 16,
   "id": "fa8f1680",
   "metadata": {},
   "outputs": [],
   "source": [
    "import matplotlib.pyplot as plt"
   ]
  },
  {
   "cell_type": "code",
   "execution_count": 17,
   "id": "792c1dd8",
   "metadata": {},
   "outputs": [
    {
     "name": "stdout",
     "output_type": "stream",
     "text": [
      "6.500476001791126\n"
     ]
    }
   ],
   "source": [
    "print(max([abs((X[i]*c_result+d_result)-Y[i]) for i in model.Iset]))"
   ]
  },
  {
   "cell_type": "code",
   "execution_count": 18,
   "id": "69380148",
   "metadata": {},
   "outputs": [
    {
     "data": {
      "image/png": "[encoded data removed]",
      "text/plain": [
       "<Figure size 640x480 with 1 Axes>"
      ]
     },
     "metadata": {},
     "output_type": "display_data"
    }
   ],
   "source": [
    "plt.plot(X,Y,'o')\n",
    "plt.plot(X,[x*c_result+d_result for x in X])\n",
    "plt.show()"
   ]
  },
  {
   "cell_type": "code",
   "execution_count": null,
   "id": "f53febaa",
   "metadata": {},
   "outputs": [],
   "source": []
  }
 ],
 "metadata": {
  "kernelspec": {
   "display_name": "Python 3 (ipykernel)",
   "language": "python",
   "name": "python3"
  },
  "language_info": {
   "codemirror_mode": {
    "name": "ipython",
    "version": 3
   },
   "file_extension": ".py",
   "mimetype": "text/x-python",
   "name": "python",
   "nbconvert_exporter": "python",
   "pygments_lexer": "ipython3",
   "version": "3.10.9"
  }
 },
 "nbformat": 4,
 "nbformat_minor": 5
}
