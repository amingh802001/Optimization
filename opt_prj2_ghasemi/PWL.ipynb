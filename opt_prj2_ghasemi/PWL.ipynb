{
 "cells": [
  {
   "cell_type": "code",
   "execution_count": 1,
   "id": "73c4b9be",
   "metadata": {},
   "outputs": [],
   "source": [
    "with open('DebrisFlow.txt') as f:\n",
    "    lines = f.readlines()\n",
    "    \n",
    "X= []\n",
    "Y= []\n",
    "for line in lines:\n",
    "    a = str.split(line)\n",
    "    a[0] = float(a[0])\n",
    "    a[1] = float(a[1])\n",
    "    X.append(a[0])\n",
    "    Y.append(a[1])\n",
    "\n",
    "    \n",
    "import pyomo.environ as pyo\n",
    "model= pyo.ConcreteModel()\n",
    "\n",
    "I = [i for i in range(len(X))]\n",
    "model.Iset= pyo.Set(initialize= I)\n",
    "\n",
    "def X_(model, i):\n",
    "    return X[i]\n",
    "model.X= pyo.Param(model.Iset, rule= X_)\n",
    "\n",
    "def Y_(model, i):\n",
    "    return Y[i]\n",
    "model.Y= pyo.Param(model.Iset, rule= Y_)"
   ]
  },
  {
   "cell_type": "markdown",
   "id": "ac21112c",
   "metadata": {},
   "source": [
    "Clusterning Params and Vars "
   ]
  },
  {
   "cell_type": "code",
   "execution_count": 2,
   "id": "a2ba2b59",
   "metadata": {},
   "outputs": [],
   "source": [
    "B = [0,1,2,3]\n",
    "model.Bset= pyo.Set(initialize= B)"
   ]
  },
  {
   "cell_type": "code",
   "execution_count": 3,
   "id": "94f4a3cd",
   "metadata": {},
   "outputs": [],
   "source": [
    "model.dist= pyo.Var(model.Iset, domain= pyo.NonNegativeReals)"
   ]
  },
  {
   "cell_type": "code",
   "execution_count": 4,
   "id": "99c22c6d",
   "metadata": {},
   "outputs": [],
   "source": [
    "model.delta= pyo.Var(model.Iset, model.Bset, domain= pyo.Binary)"
   ]
  },
  {
   "cell_type": "code",
   "execution_count": 5,
   "id": "96eab3c6",
   "metadata": {},
   "outputs": [],
   "source": [
    "M= [6.5 for y in Y]\n",
    "def M_(model,i):\n",
    "    return M[i]\n",
    "model.M= pyo.Param(model.Iset, rule= M_)"
   ]
  },
  {
   "cell_type": "code",
   "execution_count": 6,
   "id": "777c4394",
   "metadata": {},
   "outputs": [],
   "source": [
    "model.c = pyo.Var(model.Bset, domain=pyo.NonNegativeReals)\n",
    "model.d = pyo.Var(model.Bset, domain=pyo.Reals)"
   ]
  },
  {
   "cell_type": "markdown",
   "id": "defbd3a3",
   "metadata": {},
   "source": [
    "Constraints"
   ]
  },
  {
   "cell_type": "code",
   "execution_count": 7,
   "id": "9e948d00",
   "metadata": {},
   "outputs": [],
   "source": [
    "def const_1(model, i, b):\n",
    "    return model.Y[i]-(model.c[b]*model.X[i] + model.d[b])<= model.dist[i]+ model.M[i]*(1-model.delta[i,b])\n",
    "model.const_1= pyo.Constraint(model.Iset, model.Bset, rule= const_1)"
   ]
  },
  {
   "cell_type": "code",
   "execution_count": 8,
   "id": "fa8c64a1",
   "metadata": {},
   "outputs": [],
   "source": [
    "def const_2(model, i, b):\n",
    "    return (model.c[b]*model.X[i] + model.d[b])- model.Y[i]<= model.dist[i]+ model.M[i]*(1-model.delta[i,b])\n",
    "model.const_2= pyo.Constraint(model.Iset, model.Bset, rule= const_2)"
   ]
  },
  {
   "cell_type": "code",
   "execution_count": 9,
   "id": "8a9d4d82",
   "metadata": {},
   "outputs": [],
   "source": [
    "def delta_(model, i):\n",
    "    return sum(model.delta[i,b] for b in model.Bset)==1\n",
    "model.const_delta= pyo.Constraint(model.Iset, rule=delta_)"
   ]
  },
  {
   "cell_type": "markdown",
   "id": "e405e1d7",
   "metadata": {},
   "source": [
    "# Ordering constraints"
   ]
  },
  {
   "cell_type": "code",
   "execution_count": 10,
   "id": "7984ccc4",
   "metadata": {},
   "outputs": [],
   "source": [
    "def ord_1(model, i, b):\n",
    "    if i== I[-1] or b== B[-1]:\n",
    "        return pyo.Constraint.Skip\n",
    "    else:\n",
    "        return model.delta[i+1,b+1]<= model.delta[i,b]+model.delta[i,b+1]\n",
    "model.const_ord_1= pyo.Constraint(model.Iset, model.Bset, rule=ord_1)"
   ]
  },
  {
   "cell_type": "code",
   "execution_count": 11,
   "id": "07687579",
   "metadata": {},
   "outputs": [],
   "source": [
    "def ord_2(model, i):\n",
    "    if i== I[-1]:\n",
    "        return pyo.Constraint.Skip\n",
    "    else:\n",
    "         return model.delta[i+1,B[0]]<= model.delta[i,B[0]]\n",
    "model.const_ord_2= pyo.Constraint(model.Iset, rule= ord_2)"
   ]
  },
  {
   "cell_type": "code",
   "execution_count": 12,
   "id": "8807b0c5",
   "metadata": {},
   "outputs": [],
   "source": [
    "def ord_3(model, i):\n",
    "    if i== I[-1]:\n",
    "        return pyo.Constraint.Skip\n",
    "    else:\n",
    "        return model.delta[i,B[-1]]<= model.delta[i+1,B[-1]]\n",
    "model.const_ord_3= pyo.Constraint(model.Iset, rule= ord_3)"
   ]
  },
  {
   "cell_type": "markdown",
   "id": "4c35334c",
   "metadata": {},
   "source": [
    "# Continuity Variables"
   ]
  },
  {
   "cell_type": "code",
   "execution_count": 13,
   "id": "dbf7b0c7",
   "metadata": {},
   "outputs": [],
   "source": [
    "model.delta_plus= pyo.Var(model.Iset, model.Bset, domain= pyo.UnitInterval)\n",
    "model.delta_minus= pyo.Var(model.Iset, model.Bset, domain= pyo.UnitInterval)"
   ]
  },
  {
   "cell_type": "code",
   "execution_count": 14,
   "id": "5401ab19",
   "metadata": {},
   "outputs": [],
   "source": [
    "model.gama= pyo.Var(model.Bset, domain= pyo.Binary)"
   ]
  },
  {
   "cell_type": "code",
   "execution_count": 15,
   "id": "308d4696",
   "metadata": {},
   "outputs": [],
   "source": [
    "M_2= [2*model.X[i]+(100) for i in model.Iset]\n",
    "\n",
    "def M_two(model,i):\n",
    "    return M_2[i]\n",
    "model.M_2= pyo.Param(model.Iset, rule= M_two)"
   ]
  },
  {
   "cell_type": "markdown",
   "id": "eb2eb270",
   "metadata": {},
   "source": [
    "# Continuity Constraints"
   ]
  },
  {
   "cell_type": "code",
   "execution_count": 16,
   "id": "43e8204e",
   "metadata": {
    "scrolled": true
   },
   "outputs": [],
   "source": [
    "def delta_sign(model, i,b):\n",
    "    return model.delta_plus[i,b]+model.delta_minus[i,b]<=1\n",
    "model.delta_sign= pyo.Constraint(model.Iset, model.Bset, rule= delta_sign)"
   ]
  },
  {
   "cell_type": "code",
   "execution_count": 17,
   "id": "7c47fcc4",
   "metadata": {},
   "outputs": [],
   "source": [
    "def c_d(model, i, b):\n",
    "    if i== I[-1] or b== B[-1]:\n",
    "        return pyo.Constraint.Skip\n",
    "    else:\n",
    "        return model.delta[i,b]+model.delta[i+1,b+1]+model.gama[b]-2<= model.delta_plus[i,b]\n",
    "model.c_d= pyo.Constraint(model.Iset, model.Bset, rule=c_d)"
   ]
  },
  {
   "cell_type": "code",
   "execution_count": 18,
   "id": "c1c35cf3",
   "metadata": {},
   "outputs": [],
   "source": [
    "def c_e(model, i, b):\n",
    "    if i== I[-1] or b== B[-1]:\n",
    "        return pyo.Constraint.Skip\n",
    "    else:\n",
    "        return model.delta[i,b]+model.delta[i+1,b+1]+ (1-model.gama[b])-2<= model.delta_minus[i,b]\n",
    "model.c_e= pyo.Constraint(model.Iset, model.Bset, rule=c_e)"
   ]
  },
  {
   "cell_type": "code",
   "execution_count": 19,
   "id": "4091965f",
   "metadata": {},
   "outputs": [],
   "source": [
    "def c_f(model, i, b):\n",
    "    if i== I[-1] or b== B[-1]:\n",
    "        return pyo.Constraint.Skip\n",
    "    else:\n",
    "        return model.d[b+1]-model.d[b]>= model.X[i]*(model.c[b]-model.c[b+1])-model.M_2[i]*(1-model.delta_plus[i,b])\n",
    "model.c_f= pyo.Constraint(model.Iset, model.Bset, rule=c_f)"
   ]
  },
  {
   "cell_type": "code",
   "execution_count": 20,
   "id": "b5803f88",
   "metadata": {},
   "outputs": [],
   "source": [
    "def c_g(model, i, b):\n",
    "    if i== I[-1] or b== B[-1]:\n",
    "        return pyo.Constraint.Skip\n",
    "    else:\n",
    "        return model.d[b+1]-model.d[b]<= model.X[i+1]*(model.c[b]-model.c[b+1])+model.M_2[i+1]*(1-model.delta_plus[i,b])\n",
    "model.c_g= pyo.Constraint(model.Iset, model.Bset, rule=c_g)"
   ]
  },
  {
   "cell_type": "code",
   "execution_count": 21,
   "id": "fc4e6274",
   "metadata": {},
   "outputs": [],
   "source": [
    "def c_h(model, i, b):\n",
    "    if i== I[-1] or b== B[-1]:\n",
    "        return pyo.Constraint.Skip\n",
    "    else:\n",
    "        return model.d[b+1]-model.d[b]<= model.X[i]*(model.c[b]-model.c[b+1])+model.M_2[i]*(1-model.delta_minus[i,b])\n",
    "model.c_h= pyo.Constraint(model.Iset, model.Bset, rule=c_h)"
   ]
  },
  {
   "cell_type": "code",
   "execution_count": 22,
   "id": "b9417265",
   "metadata": {},
   "outputs": [],
   "source": [
    "def c_i(model, i, b):\n",
    "    if i== I[-1] or b== B[-1]:\n",
    "        return pyo.Constraint.Skip\n",
    "    else:\n",
    "        return model.d[b+1]-model.d[b]>= model.X[i+1]*(model.c[b]-model.c[b+1])-model.M_2[i+1]*(1-model.delta_minus[i,b])\n",
    "model.c_i= pyo.Constraint(model.Iset, model.Bset, rule=c_i)"
   ]
  },
  {
   "cell_type": "markdown",
   "id": "20e59148",
   "metadata": {},
   "source": [
    "Objective"
   ]
  },
  {
   "cell_type": "code",
   "execution_count": 23,
   "id": "2b4d344f",
   "metadata": {},
   "outputs": [],
   "source": [
    "def obj(model):\n",
    "    return sum(model.dist[i] for i in model.Iset)+sum(model.delta_minus[i,b]+model.delta_plus[i,b] for i in model.Iset for b in model.Bset)\n",
    "model.obj= pyo.Objective(rule=obj, sense= pyo.minimize)"
   ]
  },
  {
   "cell_type": "markdown",
   "id": "c3a7c38e",
   "metadata": {},
   "source": [
    "Solve and Result"
   ]
  },
  {
   "cell_type": "code",
   "execution_count": 24,
   "id": "286c42de",
   "metadata": {},
   "outputs": [],
   "source": [
    "opt = pyo.SolverFactory('glpk') \n",
    "result=opt.solve(model,'glpk')"
   ]
  },
  {
   "cell_type": "code",
   "execution_count": 25,
   "id": "627c2455",
   "metadata": {},
   "outputs": [
    {
     "name": "stdout",
     "output_type": "stream",
     "text": [
      "69.87116145120245\n"
     ]
    }
   ],
   "source": [
    "print(pyo.value(model.obj))"
   ]
  },
  {
   "cell_type": "markdown",
   "id": "235d4150",
   "metadata": {},
   "source": [
    "# Visualization"
   ]
  },
  {
   "cell_type": "code",
   "execution_count": 26,
   "id": "5abfd4fe",
   "metadata": {},
   "outputs": [],
   "source": [
    "delta_results= [pyo.value(model.delta[i,b]) for i in model.Iset for b in model.Bset]"
   ]
  },
  {
   "cell_type": "code",
   "execution_count": 27,
   "id": "074e4b0d",
   "metadata": {},
   "outputs": [],
   "source": [
    "Cluster= {}\n",
    "for b in model.Bset:\n",
    "    Cluster[b]= {}\n",
    "    Cluster[b]['X']= []\n",
    "    Cluster[b]['Y']= []\n",
    "for b in model.Bset:\n",
    "    for i in model.Iset:\n",
    "        if pyo.value(model.delta[i, b]) == 1:\n",
    "            Cluster[b]['X'].append(model.X[i])\n",
    "            Cluster[b]['Y'].append(model.Y[i])"
   ]
  },
  {
   "cell_type": "code",
   "execution_count": 28,
   "id": "60decb0f",
   "metadata": {},
   "outputs": [],
   "source": [
    "C= {}\n",
    "D= {}\n",
    "for b in model.Bset:\n",
    "    C[b]= pyo.value(model.c[b])\n",
    "    D[b]= pyo.value(model.d[b])"
   ]
  },
  {
   "cell_type": "code",
   "execution_count": 29,
   "id": "9b10352b",
   "metadata": {},
   "outputs": [],
   "source": [
    "c_results= []\n",
    "d_results= []\n",
    "for i in I:\n",
    "    for b in B:\n",
    "        if pyo.value(model.delta[i,b])==1:\n",
    "            c_results.append(C[b])\n",
    "            d_results.append(D[b])"
   ]
  },
  {
   "cell_type": "code",
   "execution_count": 30,
   "id": "9f5cc295",
   "metadata": {},
   "outputs": [
    {
     "name": "stdout",
     "output_type": "stream",
     "text": [
      "{0: 0.0616098917127524, 1: 0.0973169182460789, 2: 0.05285016167332, 3: 0.0806803446036439}\n",
      "{0: -0.470575126099021, 1: -5.08142346234747, 2: 6.75448524872486, 3: -3.41739095194265}\n"
     ]
    }
   ],
   "source": [
    "print(C)\n",
    "print(D)"
   ]
  },
  {
   "cell_type": "code",
   "execution_count": 31,
   "id": "76ae6c97",
   "metadata": {},
   "outputs": [],
   "source": [
    "import matplotlib.pyplot as plt"
   ]
  },
  {
   "cell_type": "code",
   "execution_count": 32,
   "id": "37911a30",
   "metadata": {},
   "outputs": [
    {
     "data": {
      "image/png": "[encoded data removed]",
      "text/plain": [
       "<Figure size 640x480 with 1 Axes>"
      ]
     },
     "metadata": {},
     "output_type": "display_data"
    }
   ],
   "source": [
    "plt.plot(X,Y,'o')\n",
    "plt.plot(X,[X[i]*c_results[i]+d_results[i] for i in range(len(c_results))])\n",
    "plt.show()"
   ]
  },
  {
   "cell_type": "code",
   "execution_count": 33,
   "id": "36700524",
   "metadata": {},
   "outputs": [
    {
     "data": {
      "image/png": "[encoded data removed]",
      "text/plain": [
       "<Figure size 640x480 with 1 Axes>"
      ]
     },
     "metadata": {},
     "output_type": "display_data"
    }
   ],
   "source": [
    "shape= ['o','+','^','*']\n",
    "count= 0\n",
    "for b in model.Bset:\n",
    "    plt.plot(Cluster[b]['X'], Cluster[b]['Y'], shape[count])\n",
    "    count+= 1\n",
    "    \n",
    "plt.show()"
   ]
  },
  {
   "cell_type": "code",
   "execution_count": 34,
   "id": "5389eab8",
   "metadata": {},
   "outputs": [
    {
     "data": {
      "image/png": "[encoded data removed]",
      "text/plain": [
       "<Figure size 640x480 with 1 Axes>"
      ]
     },
     "metadata": {},
     "output_type": "display_data"
    }
   ],
   "source": [
    "shape= ['o','+','^','*']\n",
    "color= ['r','b','k','g']\n",
    "count= 0\n",
    "for b in model.Bset:\n",
    "    S= shape[count]+':'+color[count]\n",
    "    plt.plot(Cluster[b]['X'], Cluster[b]['Y'], shape[count])\n",
    "    plt.plot(Cluster[b]['X'], [x*C[b]+D[b] for x in Cluster[b]['X']],color[count])\n",
    "    count+= 1\n",
    "    \n",
    "plt.show()"
   ]
  },
  {
   "cell_type": "code",
   "execution_count": null,
   "id": "6a3652ea",
   "metadata": {},
   "outputs": [],
   "source": []
  }
 ],
 "metadata": {
  "kernelspec": {
   "display_name": "Python 3 (ipykernel)",
   "language": "python",
   "name": "python3"
  },
  "language_info": {
   "codemirror_mode": {
    "name": "ipython",
    "version": 3
   },
   "file_extension": ".py",
   "mimetype": "text/x-python",
   "name": "python",
   "nbconvert_exporter": "python",
   "pygments_lexer": "ipython3",
   "version": "3.10.9"
  }
 },
 "nbformat": 4,
 "nbformat_minor": 5
}
