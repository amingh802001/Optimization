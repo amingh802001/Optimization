{
 "cells": [
  {
   "cell_type": "markdown",
   "id": "2819c206",
   "metadata": {},
   "source": [
    "# CO project p1"
   ]
  },
  {
   "cell_type": "markdown",
   "id": "41c8e227",
   "metadata": {},
   "source": [
    "# Initializing (preferances and capacities)"
   ]
  },
  {
   "cell_type": "code",
   "execution_count": 1,
   "id": "15956712",
   "metadata": {},
   "outputs": [
    {
     "name": "stdout",
     "output_type": "stream",
     "text": [
      "[[2 1 1 1 1 1 1 1 1 1 1 2]] cap\n",
      "[ 8  4  1  3  6  5  3  9  6  9  1  9  4 11  2  6] t\n",
      "[[2 3 2 3 3 2 4 1 2 4 1 3]] cap1\n",
      "(30, 12)\n",
      "(12, 30)\n"
     ]
    }
   ],
   "source": [
    "#Randomly\n",
    "\n",
    "import numpy as np\n",
    "import random\n",
    "#cap of profs\n",
    "\n",
    "#setting the seed\n",
    "np.random.seed(10)\n",
    "random.seed(10)\n",
    "\n",
    "\n",
    "cap = np.random.normal(loc=1.2, scale=1.0, size=(1,12))\n",
    "cap = np.floor(cap)\n",
    "for i in range(len(cap[0])):\n",
    "    if cap[0][i]<1:\n",
    "        cap[0][i]=1\n",
    "cap= cap.astype(int)\n",
    "f = 30- np.sum(cap)\n",
    "print(cap, \"cap\")\n",
    "t = np.random.choice([i for i in range(0,12)], size=f)\n",
    "print(t, \"t\")\n",
    "for i in t:\n",
    "    cap[0][i]+= 1\n",
    "print(cap, \"cap1\")\n",
    "\n",
    "\n",
    "studs = [i for i in range(1,31)]\n",
    "profs = [i for i in range(1,13)]\n",
    "studs_copy = studs.copy()\n",
    "profs_copy = profs.copy()\n",
    "\n",
    "def shuffle(a):\n",
    "    np.random.shuffle(a)\n",
    "    return a\n",
    "\n",
    "pref_studs = np.array([shuffle(profs.copy()) for stud in studs])\n",
    "pref_profs = np.array([shuffle(studs.copy()) for prof in profs])\n",
    "\n",
    "print(np.shape(pref_studs))\n",
    "print(np.shape(pref_profs))"
   ]
  },
  {
   "cell_type": "code",
   "execution_count": 2,
   "id": "12f42ab7",
   "metadata": {},
   "outputs": [
    {
     "name": "stdout",
     "output_type": "stream",
     "text": [
      "(30, 12)\n",
      "(12, 30)\n"
     ]
    }
   ],
   "source": [
    "#Better, more chance to be preffered\n",
    "\n",
    "ss = (30*31)/2\n",
    "ps = (12*13)/2\n",
    "P_stud = [i/ss for i in range(1,31)]\n",
    "P_prof = [i/ps for i in range(1,13)]\n",
    "\n",
    "def choice(a,P):\n",
    "    t = np.random.choice(a, size=len(a), replace=False, p=P)\n",
    "    return t\n",
    "\n",
    "pref_studs_ = np.array([choice(profs.copy(), P_prof) for stud in studs])\n",
    "pref_profs_ = np.array([choice(studs.copy(), P_stud) for prof in profs])\n",
    "\n",
    "print(np.shape(pref_studs_))\n",
    "print(np.shape(pref_profs_))"
   ]
  },
  {
   "cell_type": "code",
   "execution_count": 3,
   "id": "434fab7e",
   "metadata": {},
   "outputs": [
    {
     "name": "stdout",
     "output_type": "stream",
     "text": [
      "[23 20 14 28 16 30 18 29 13 21 27 19 24 17  9 12 25  3  2 26 10 15 22  8\n",
      "  4 11  6  5  7  1]\n"
     ]
    }
   ],
   "source": [
    "print(pref_profs_[1])"
   ]
  },
  {
   "cell_type": "markdown",
   "id": "d5f02867",
   "metadata": {},
   "source": [
    "# Model"
   ]
  },
  {
   "cell_type": "markdown",
   "id": "13e52a0a",
   "metadata": {},
   "source": [
    "def model"
   ]
  },
  {
   "cell_type": "code",
   "execution_count": 4,
   "id": "553cecd1",
   "metadata": {},
   "outputs": [],
   "source": [
    "import pyomo.environ as pyo "
   ]
  },
  {
   "cell_type": "code",
   "execution_count": 5,
   "id": "c772065e",
   "metadata": {},
   "outputs": [],
   "source": [
    "model=pyo.ConcreteModel()"
   ]
  },
  {
   "cell_type": "markdown",
   "id": "cd53b441",
   "metadata": {},
   "source": [
    "Sets and Params"
   ]
  },
  {
   "cell_type": "code",
   "execution_count": 6,
   "id": "34175026",
   "metadata": {},
   "outputs": [],
   "source": [
    "model.iset= pyo.Set(initialize= profs)\n",
    "model.jset= pyo.Set(initialize= studs)"
   ]
  },
  {
   "cell_type": "code",
   "execution_count": 7,
   "id": "6ace8574",
   "metadata": {},
   "outputs": [
    {
     "name": "stdout",
     "output_type": "stream",
     "text": [
      "(1, 2, 3, 4, 5, 6, 7, 8, 9, 10, 11, 12)\n",
      "(1, 2, 3, 4, 5, 6, 7, 8, 9, 10, 11, 12, 13, 14, 15, 16, 17, 18, 19, 20, 21, 22, 23, 24, 25, 26, 27, 28, 29, 30)\n"
     ]
    }
   ],
   "source": [
    "print(model.iset.data())\n",
    "print(model.jset.data())"
   ]
  },
  {
   "cell_type": "code",
   "execution_count": 8,
   "id": "8e198848",
   "metadata": {},
   "outputs": [],
   "source": [
    "def rule_cap(model, i):\n",
    "    return cap[0][i-1]\n",
    "model.cap = pyo.Param(model.iset, rule=rule_cap)"
   ]
  },
  {
   "cell_type": "code",
   "execution_count": 9,
   "id": "99d0d6c1",
   "metadata": {},
   "outputs": [],
   "source": [
    "def rule_pref_studs(model,i,j):\n",
    "    return pref_studs[j-1,i-1]\n",
    "model.pref_studs= pyo.Param(model.iset, model.jset, rule=rule_pref_studs)"
   ]
  },
  {
   "cell_type": "code",
   "execution_count": 10,
   "id": "b3d40a3d",
   "metadata": {},
   "outputs": [],
   "source": [
    "def rule_pref_profs(model,i,j):\n",
    "    return pref_profs[i-1,j-1]\n",
    "model.pref_profs= pyo.Param(model.iset, model.jset, rule=rule_pref_profs)"
   ]
  },
  {
   "cell_type": "code",
   "execution_count": 11,
   "id": "6c5cdf0f",
   "metadata": {},
   "outputs": [],
   "source": [
    "def rule_pref_studs_(model,i,j):\n",
    "    return pref_studs_[j-1,i-1]\n",
    "model.pref_studs_= pyo.Param(model.iset, model.jset, rule=rule_pref_studs_)"
   ]
  },
  {
   "cell_type": "code",
   "execution_count": 12,
   "id": "5f5d376a",
   "metadata": {},
   "outputs": [],
   "source": [
    "def rule_pref_profs_(model,i,j):\n",
    "    return pref_profs_[i-1,j-1]\n",
    "model.pref_profs_= pyo.Param(model.iset, model.jset, rule=rule_pref_profs_)"
   ]
  },
  {
   "cell_type": "code",
   "execution_count": 13,
   "id": "2c31a691",
   "metadata": {},
   "outputs": [],
   "source": [
    "def rule_weights(model,i,j):\n",
    "    return pref_profs[i-1,j-1]*pref_studs[j-1,i-1]\n",
    "model.weights= pyo.Param(model.iset, model.jset, rule=rule_weights)"
   ]
  },
  {
   "cell_type": "code",
   "execution_count": 14,
   "id": "f78373c1",
   "metadata": {},
   "outputs": [],
   "source": [
    "def rule_weights_(model,i,j):\n",
    "    return pref_profs_[i-1,j-1]*pref_studs_[j-1,i-1]\n",
    "model.weights_= pyo.Param(model.iset, model.jset, rule=rule_weights_)"
   ]
  },
  {
   "cell_type": "code",
   "execution_count": 15,
   "id": "25ccbd70",
   "metadata": {},
   "outputs": [
    {
     "name": "stdout",
     "output_type": "stream",
     "text": [
      "270\n"
     ]
    }
   ],
   "source": [
    "print(pyo.value(model.weights_[1,1]))"
   ]
  },
  {
   "cell_type": "markdown",
   "id": "833c1376",
   "metadata": {},
   "source": [
    "def Variables"
   ]
  },
  {
   "cell_type": "code",
   "execution_count": 16,
   "id": "be616853",
   "metadata": {},
   "outputs": [],
   "source": [
    "model.delta=pyo.Var(model.iset, model.jset, domain=pyo.Binary)"
   ]
  },
  {
   "cell_type": "markdown",
   "id": "f2b0edd2",
   "metadata": {},
   "source": [
    "def Constraints"
   ]
  },
  {
   "cell_type": "code",
   "execution_count": 17,
   "id": "cc2f3e79",
   "metadata": {},
   "outputs": [],
   "source": [
    "def const_profs(model,i):\n",
    "    return sum(model.delta[i,j] for j in model.jset)== model.cap[i]\n",
    "model.const_profs= pyo.Constraint(model.iset, rule= const_profs)"
   ]
  },
  {
   "cell_type": "code",
   "execution_count": 18,
   "id": "65f676b6",
   "metadata": {},
   "outputs": [
    {
     "name": "stdout",
     "output_type": "stream",
     "text": [
      "WARNING: Implicitly replacing the Component attribute const_profs (type=<class\n",
      "    'pyomo.core.base.constraint.IndexedConstraint'>) on block unknown with a\n",
      "    new Component (type=<class\n",
      "    'pyomo.core.base.constraint.IndexedConstraint'>). This is usually\n",
      "    indicative of a modelling error. To avoid this warning, use\n",
      "    block.del_component() and block.add_component().\n"
     ]
    }
   ],
   "source": [
    "def const_studs(model,j):\n",
    "    return sum(model.delta[i,j] for i in model.iset)== 1\n",
    "model.const_profs= pyo.Constraint(model.iset, rule= const_studs)"
   ]
  },
  {
   "cell_type": "markdown",
   "id": "37b79434",
   "metadata": {},
   "source": [
    "def Objective"
   ]
  },
  {
   "cell_type": "code",
   "execution_count": 19,
   "id": "653afd4e",
   "metadata": {},
   "outputs": [],
   "source": [
    "def obj(model):\n",
    "    return sum(model.delta[i,j]*model.weights_[i,j]*(1/model.cap[i]) for i in model.iset for j in model.jset)"
   ]
  },
  {
   "cell_type": "code",
   "execution_count": 20,
   "id": "1bf166f6",
   "metadata": {},
   "outputs": [],
   "source": [
    "model.obj= pyo.Objective(rule=obj, sense=pyo.maximize)"
   ]
  },
  {
   "cell_type": "markdown",
   "id": "1e49d20d",
   "metadata": {},
   "source": [
    "# Solving and analysing the result"
   ]
  },
  {
   "cell_type": "markdown",
   "id": "c9aabad3",
   "metadata": {},
   "source": [
    "Solving"
   ]
  },
  {
   "cell_type": "code",
   "execution_count": 21,
   "id": "05047376",
   "metadata": {},
   "outputs": [],
   "source": [
    "opt = pyo.SolverFactory('glpk')\n",
    "result=opt.solve(model,'glpk')"
   ]
  },
  {
   "cell_type": "code",
   "execution_count": 22,
   "id": "1ecd8b59",
   "metadata": {},
   "outputs": [
    {
     "name": "stdout",
     "output_type": "stream",
     "text": [
      "2.0571428571428574\n"
     ]
    }
   ],
   "source": [
    "a = sum(1/model.cap[i] for i in model.iset)\n",
    "a = a/len(model.cap)\n",
    "a = 1/a\n",
    "print(a)"
   ]
  },
  {
   "cell_type": "code",
   "execution_count": 23,
   "id": "34dd28b1",
   "metadata": {},
   "outputs": [
    {
     "name": "stdout",
     "output_type": "stream",
     "text": [
      "7.845896713448071\n"
     ]
    }
   ],
   "source": [
    "w = pyo.value(model.obj)\n",
    "w = w*a*(1/12)*(1/30)\n",
    "print(np.sqrt(w))"
   ]
  },
  {
   "cell_type": "code",
   "execution_count": 24,
   "id": "148a2efa",
   "metadata": {},
   "outputs": [
    {
     "name": "stdout",
     "output_type": "stream",
     "text": [
      "model:  0.261529890448269\n"
     ]
    }
   ],
   "source": [
    "w= np.sqrt(w)\n",
    "w= w/30\n",
    "print('model: ', w)"
   ]
  },
  {
   "cell_type": "code",
   "execution_count": 25,
   "id": "56ede905",
   "metadata": {},
   "outputs": [
    {
     "name": "stdout",
     "output_type": "stream",
     "text": [
      "0.33181160588343167\n"
     ]
    }
   ],
   "source": [
    "e = sum(model.weights_[i,j]*(1/model.cap[i]) for i in model.iset for j in model.jset)\n",
    "e = e*a*(1/12)*(1/30)\n",
    "e= np.sqrt(e)\n",
    "e= e/30\n",
    "print(e)"
   ]
  },
  {
   "cell_type": "code",
   "execution_count": 26,
   "id": "21fe1cf0",
   "metadata": {},
   "outputs": [
    {
     "name": "stdout",
     "output_type": "stream",
     "text": [
      "random:  0.02765096715695264\n"
     ]
    }
   ],
   "source": [
    "e= e/12\n",
    "print('random: ',e)"
   ]
  },
  {
   "cell_type": "markdown",
   "id": "e24fbe12",
   "metadata": {},
   "source": [
    "# Therefore, the comparision shows that the optimization objective results in average happiness of professors and students, about 10 times more than paring them randomly, so it could be concluded that the objective function is proper. \n",
    "\n",
    "\n"
   ]
  },
  {
   "cell_type": "code",
   "execution_count": 27,
   "id": "172d2a26",
   "metadata": {},
   "outputs": [
    {
     "name": "stdout",
     "output_type": "stream",
     "text": [
      "Model unknown\n",
      "\n",
      "  Variables:\n",
      "    delta : Size=360, Index=delta_index\n",
      "        Key      : Lower : Value : Upper : Fixed : Stale : Domain\n",
      "          (1, 1) :     0 :   1.0 :     1 : False : False : Binary\n",
      "          (1, 2) :     0 :   0.0 :     1 : False : False : Binary\n",
      "          (1, 3) :     0 :   0.0 :     1 : False : False : Binary\n",
      "          (1, 4) :     0 :   0.0 :     1 : False : False : Binary\n",
      "          (1, 5) :     0 :   0.0 :     1 : False : False : Binary\n",
      "          (1, 6) :     0 :   0.0 :     1 : False : False : Binary\n",
      "          (1, 7) :     0 :   0.0 :     1 : False : False : Binary\n",
      "          (1, 8) :     0 :   0.0 :     1 : False : False : Binary\n",
      "          (1, 9) :     0 :   0.0 :     1 : False : False : Binary\n",
      "         (1, 10) :     0 :   0.0 :     1 : False : False : Binary\n",
      "         (1, 11) :     0 :   0.0 :     1 : False : False : Binary\n",
      "         (1, 12) :     0 :   1.0 :     1 : False : False : Binary\n",
      "         (1, 13) :     0 :   1.0 :     1 : False : False : Binary\n",
      "         (1, 14) :     0 :   1.0 :     1 : False : False : Binary\n",
      "         (1, 15) :     0 :   1.0 :     1 : False : False : Binary\n",
      "         (1, 16) :     0 :   1.0 :     1 : False : False : Binary\n",
      "         (1, 17) :     0 :   1.0 :     1 : False : False : Binary\n",
      "         (1, 18) :     0 :   1.0 :     1 : False : False : Binary\n",
      "         (1, 19) :     0 :   1.0 :     1 : False : False : Binary\n",
      "         (1, 20) :     0 :   1.0 :     1 : False : False : Binary\n",
      "         (1, 21) :     0 :   1.0 :     1 : False : False : Binary\n",
      "         (1, 22) :     0 :   1.0 :     1 : False : False : Binary\n",
      "         (1, 23) :     0 :   1.0 :     1 : False : False : Binary\n",
      "         (1, 24) :     0 :   1.0 :     1 : False : False : Binary\n",
      "         (1, 25) :     0 :   1.0 :     1 : False : False : Binary\n",
      "         (1, 26) :     0 :   1.0 :     1 : False : False : Binary\n",
      "         (1, 27) :     0 :   1.0 :     1 : False : False : Binary\n",
      "         (1, 28) :     0 :   1.0 :     1 : False : False : Binary\n",
      "         (1, 29) :     0 :   1.0 :     1 : False : False : Binary\n",
      "         (1, 30) :     0 :   1.0 :     1 : False : False : Binary\n",
      "          (2, 1) :     0 :   0.0 :     1 : False : False : Binary\n",
      "          (2, 2) :     0 :   0.0 :     1 : False : False : Binary\n",
      "          (2, 3) :     0 :   0.0 :     1 : False : False : Binary\n",
      "          (2, 4) :     0 :   0.0 :     1 : False : False : Binary\n",
      "          (2, 5) :     0 :   0.0 :     1 : False : False : Binary\n",
      "          (2, 6) :     0 :   0.0 :     1 : False : False : Binary\n",
      "          (2, 7) :     0 :   0.0 :     1 : False : False : Binary\n",
      "          (2, 8) :     0 :   0.0 :     1 : False : False : Binary\n",
      "          (2, 9) :     0 :   0.0 :     1 : False : False : Binary\n",
      "         (2, 10) :     0 :   0.0 :     1 : False : False : Binary\n",
      "         (2, 11) :     0 :   1.0 :     1 : False : False : Binary\n",
      "         (2, 12) :     0 :   0.0 :     1 : False : False : Binary\n",
      "         (2, 13) :     0 :   1.0 :     1 : False : False : Binary\n",
      "         (2, 14) :     0 :   1.0 :     1 : False : False : Binary\n",
      "         (2, 15) :     0 :   1.0 :     1 : False : False : Binary\n",
      "         (2, 16) :     0 :   1.0 :     1 : False : False : Binary\n",
      "         (2, 17) :     0 :   1.0 :     1 : False : False : Binary\n",
      "         (2, 18) :     0 :   1.0 :     1 : False : False : Binary\n",
      "         (2, 19) :     0 :   1.0 :     1 : False : False : Binary\n",
      "         (2, 20) :     0 :   1.0 :     1 : False : False : Binary\n",
      "         (2, 21) :     0 :   1.0 :     1 : False : False : Binary\n",
      "         (2, 22) :     0 :   1.0 :     1 : False : False : Binary\n",
      "         (2, 23) :     0 :   1.0 :     1 : False : False : Binary\n",
      "         (2, 24) :     0 :   1.0 :     1 : False : False : Binary\n",
      "         (2, 25) :     0 :   1.0 :     1 : False : False : Binary\n",
      "         (2, 26) :     0 :   1.0 :     1 : False : False : Binary\n",
      "         (2, 27) :     0 :   1.0 :     1 : False : False : Binary\n",
      "         (2, 28) :     0 :   1.0 :     1 : False : False : Binary\n",
      "         (2, 29) :     0 :   1.0 :     1 : False : False : Binary\n",
      "         (2, 30) :     0 :   1.0 :     1 : False : False : Binary\n",
      "          (3, 1) :     0 :   0.0 :     1 : False : False : Binary\n",
      "          (3, 2) :     0 :   0.0 :     1 : False : False : Binary\n",
      "          (3, 3) :     0 :   0.0 :     1 : False : False : Binary\n",
      "          (3, 4) :     0 :   0.0 :     1 : False : False : Binary\n",
      "          (3, 5) :     0 :   0.0 :     1 : False : False : Binary\n",
      "          (3, 6) :     0 :   0.0 :     1 : False : False : Binary\n",
      "          (3, 7) :     0 :   0.0 :     1 : False : False : Binary\n",
      "          (3, 8) :     0 :   0.0 :     1 : False : False : Binary\n",
      "          (3, 9) :     0 :   0.0 :     1 : False : False : Binary\n",
      "         (3, 10) :     0 :   1.0 :     1 : False : False : Binary\n",
      "         (3, 11) :     0 :   0.0 :     1 : False : False : Binary\n",
      "         (3, 12) :     0 :   0.0 :     1 : False : False : Binary\n",
      "         (3, 13) :     0 :   1.0 :     1 : False : False : Binary\n",
      "         (3, 14) :     0 :   1.0 :     1 : False : False : Binary\n",
      "         (3, 15) :     0 :   1.0 :     1 : False : False : Binary\n",
      "         (3, 16) :     0 :   1.0 :     1 : False : False : Binary\n",
      "         (3, 17) :     0 :   1.0 :     1 : False : False : Binary\n",
      "         (3, 18) :     0 :   1.0 :     1 : False : False : Binary\n",
      "         (3, 19) :     0 :   1.0 :     1 : False : False : Binary\n",
      "         (3, 20) :     0 :   1.0 :     1 : False : False : Binary\n",
      "         (3, 21) :     0 :   1.0 :     1 : False : False : Binary\n",
      "         (3, 22) :     0 :   1.0 :     1 : False : False : Binary\n",
      "         (3, 23) :     0 :   1.0 :     1 : False : False : Binary\n",
      "         (3, 24) :     0 :   1.0 :     1 : False : False : Binary\n",
      "         (3, 25) :     0 :   1.0 :     1 : False : False : Binary\n",
      "         (3, 26) :     0 :   1.0 :     1 : False : False : Binary\n",
      "         (3, 27) :     0 :   1.0 :     1 : False : False : Binary\n",
      "         (3, 28) :     0 :   1.0 :     1 : False : False : Binary\n",
      "         (3, 29) :     0 :   1.0 :     1 : False : False : Binary\n",
      "         (3, 30) :     0 :   1.0 :     1 : False : False : Binary\n",
      "          (4, 1) :     0 :   0.0 :     1 : False : False : Binary\n",
      "          (4, 2) :     0 :   0.0 :     1 : False : False : Binary\n",
      "          (4, 3) :     0 :   0.0 :     1 : False : False : Binary\n",
      "          (4, 4) :     0 :   0.0 :     1 : False : False : Binary\n",
      "          (4, 5) :     0 :   0.0 :     1 : False : False : Binary\n",
      "          (4, 6) :     0 :   0.0 :     1 : False : False : Binary\n",
      "          (4, 7) :     0 :   0.0 :     1 : False : False : Binary\n",
      "          (4, 8) :     0 :   0.0 :     1 : False : False : Binary\n",
      "          (4, 9) :     0 :   0.0 :     1 : False : False : Binary\n",
      "         (4, 10) :     0 :   0.0 :     1 : False : False : Binary\n",
      "         (4, 11) :     0 :   0.0 :     1 : False : False : Binary\n",
      "         (4, 12) :     0 :   0.0 :     1 : False : False : Binary\n",
      "         (4, 13) :     0 :   1.0 :     1 : False : False : Binary\n",
      "         (4, 14) :     0 :   1.0 :     1 : False : False : Binary\n",
      "         (4, 15) :     0 :   1.0 :     1 : False : False : Binary\n",
      "         (4, 16) :     0 :   1.0 :     1 : False : False : Binary\n",
      "         (4, 17) :     0 :   1.0 :     1 : False : False : Binary\n",
      "         (4, 18) :     0 :   1.0 :     1 : False : False : Binary\n",
      "         (4, 19) :     0 :   1.0 :     1 : False : False : Binary\n",
      "         (4, 20) :     0 :   1.0 :     1 : False : False : Binary\n",
      "         (4, 21) :     0 :   1.0 :     1 : False : False : Binary\n",
      "         (4, 22) :     0 :   1.0 :     1 : False : False : Binary\n",
      "         (4, 23) :     0 :   1.0 :     1 : False : False : Binary\n",
      "         (4, 24) :     0 :   1.0 :     1 : False : False : Binary\n",
      "         (4, 25) :     0 :   1.0 :     1 : False : False : Binary\n",
      "         (4, 26) :     0 :   1.0 :     1 : False : False : Binary\n",
      "         (4, 27) :     0 :   1.0 :     1 : False : False : Binary\n",
      "         (4, 28) :     0 :   1.0 :     1 : False : False : Binary\n",
      "         (4, 29) :     0 :   1.0 :     1 : False : False : Binary\n",
      "         (4, 30) :     0 :   1.0 :     1 : False : False : Binary\n",
      "          (5, 1) :     0 :   0.0 :     1 : False : False : Binary\n",
      "          (5, 2) :     0 :   0.0 :     1 : False : False : Binary\n",
      "          (5, 3) :     0 :   0.0 :     1 : False : False : Binary\n",
      "          (5, 4) :     0 :   0.0 :     1 : False : False : Binary\n",
      "          (5, 5) :     0 :   0.0 :     1 : False : False : Binary\n",
      "          (5, 6) :     0 :   0.0 :     1 : False : False : Binary\n",
      "          (5, 7) :     0 :   0.0 :     1 : False : False : Binary\n",
      "          (5, 8) :     0 :   0.0 :     1 : False : False : Binary\n",
      "          (5, 9) :     0 :   0.0 :     1 : False : False : Binary\n",
      "         (5, 10) :     0 :   0.0 :     1 : False : False : Binary\n",
      "         (5, 11) :     0 :   0.0 :     1 : False : False : Binary\n",
      "         (5, 12) :     0 :   0.0 :     1 : False : False : Binary\n",
      "         (5, 13) :     0 :   1.0 :     1 : False : False : Binary\n",
      "         (5, 14) :     0 :   1.0 :     1 : False : False : Binary\n",
      "         (5, 15) :     0 :   1.0 :     1 : False : False : Binary\n",
      "         (5, 16) :     0 :   1.0 :     1 : False : False : Binary\n",
      "         (5, 17) :     0 :   1.0 :     1 : False : False : Binary\n",
      "         (5, 18) :     0 :   1.0 :     1 : False : False : Binary\n",
      "         (5, 19) :     0 :   1.0 :     1 : False : False : Binary\n",
      "         (5, 20) :     0 :   1.0 :     1 : False : False : Binary\n",
      "         (5, 21) :     0 :   1.0 :     1 : False : False : Binary\n",
      "         (5, 22) :     0 :   1.0 :     1 : False : False : Binary\n",
      "         (5, 23) :     0 :   1.0 :     1 : False : False : Binary\n",
      "         (5, 24) :     0 :   1.0 :     1 : False : False : Binary\n",
      "         (5, 25) :     0 :   1.0 :     1 : False : False : Binary\n",
      "         (5, 26) :     0 :   1.0 :     1 : False : False : Binary\n",
      "         (5, 27) :     0 :   1.0 :     1 : False : False : Binary\n",
      "         (5, 28) :     0 :   1.0 :     1 : False : False : Binary\n",
      "         (5, 29) :     0 :   1.0 :     1 : False : False : Binary\n",
      "         (5, 30) :     0 :   1.0 :     1 : False : False : Binary\n",
      "          (6, 1) :     0 :   0.0 :     1 : False : False : Binary\n",
      "          (6, 2) :     0 :   0.0 :     1 : False : False : Binary\n",
      "          (6, 3) :     0 :   0.0 :     1 : False : False : Binary\n",
      "          (6, 4) :     0 :   0.0 :     1 : False : False : Binary\n",
      "          (6, 5) :     0 :   0.0 :     1 : False : False : Binary\n",
      "          (6, 6) :     0 :   0.0 :     1 : False : False : Binary\n",
      "          (6, 7) :     0 :   0.0 :     1 : False : False : Binary\n",
      "          (6, 8) :     0 :   0.0 :     1 : False : False : Binary\n",
      "          (6, 9) :     0 :   0.0 :     1 : False : False : Binary\n",
      "         (6, 10) :     0 :   0.0 :     1 : False : False : Binary\n",
      "         (6, 11) :     0 :   0.0 :     1 : False : False : Binary\n",
      "         (6, 12) :     0 :   0.0 :     1 : False : False : Binary\n",
      "         (6, 13) :     0 :   1.0 :     1 : False : False : Binary\n",
      "         (6, 14) :     0 :   1.0 :     1 : False : False : Binary\n",
      "         (6, 15) :     0 :   1.0 :     1 : False : False : Binary\n",
      "         (6, 16) :     0 :   1.0 :     1 : False : False : Binary\n",
      "         (6, 17) :     0 :   1.0 :     1 : False : False : Binary\n",
      "         (6, 18) :     0 :   1.0 :     1 : False : False : Binary\n",
      "         (6, 19) :     0 :   1.0 :     1 : False : False : Binary\n",
      "         (6, 20) :     0 :   1.0 :     1 : False : False : Binary\n",
      "         (6, 21) :     0 :   1.0 :     1 : False : False : Binary\n",
      "         (6, 22) :     0 :   1.0 :     1 : False : False : Binary\n",
      "         (6, 23) :     0 :   1.0 :     1 : False : False : Binary\n",
      "         (6, 24) :     0 :   1.0 :     1 : False : False : Binary\n",
      "         (6, 25) :     0 :   1.0 :     1 : False : False : Binary\n",
      "         (6, 26) :     0 :   1.0 :     1 : False : False : Binary\n",
      "         (6, 27) :     0 :   1.0 :     1 : False : False : Binary\n",
      "         (6, 28) :     0 :   1.0 :     1 : False : False : Binary\n",
      "         (6, 29) :     0 :   1.0 :     1 : False : False : Binary\n",
      "         (6, 30) :     0 :   1.0 :     1 : False : False : Binary\n",
      "          (7, 1) :     0 :   0.0 :     1 : False : False : Binary\n",
      "          (7, 2) :     0 :   0.0 :     1 : False : False : Binary\n",
      "          (7, 3) :     0 :   0.0 :     1 : False : False : Binary\n",
      "          (7, 4) :     0 :   0.0 :     1 : False : False : Binary\n",
      "          (7, 5) :     0 :   0.0 :     1 : False : False : Binary\n",
      "          (7, 6) :     0 :   0.0 :     1 : False : False : Binary\n",
      "          (7, 7) :     0 :   0.0 :     1 : False : False : Binary\n",
      "          (7, 8) :     0 :   0.0 :     1 : False : False : Binary\n",
      "          (7, 9) :     0 :   0.0 :     1 : False : False : Binary\n",
      "         (7, 10) :     0 :   0.0 :     1 : False : False : Binary\n",
      "         (7, 11) :     0 :   0.0 :     1 : False : False : Binary\n",
      "         (7, 12) :     0 :   0.0 :     1 : False : False : Binary\n",
      "         (7, 13) :     0 :   1.0 :     1 : False : False : Binary\n",
      "         (7, 14) :     0 :   1.0 :     1 : False : False : Binary\n",
      "         (7, 15) :     0 :   1.0 :     1 : False : False : Binary\n",
      "         (7, 16) :     0 :   1.0 :     1 : False : False : Binary\n",
      "         (7, 17) :     0 :   1.0 :     1 : False : False : Binary\n",
      "         (7, 18) :     0 :   1.0 :     1 : False : False : Binary\n",
      "         (7, 19) :     0 :   1.0 :     1 : False : False : Binary\n",
      "         (7, 20) :     0 :   1.0 :     1 : False : False : Binary\n",
      "         (7, 21) :     0 :   1.0 :     1 : False : False : Binary\n",
      "         (7, 22) :     0 :   1.0 :     1 : False : False : Binary\n",
      "         (7, 23) :     0 :   1.0 :     1 : False : False : Binary\n",
      "         (7, 24) :     0 :   1.0 :     1 : False : False : Binary\n",
      "         (7, 25) :     0 :   1.0 :     1 : False : False : Binary\n",
      "         (7, 26) :     0 :   1.0 :     1 : False : False : Binary\n",
      "         (7, 27) :     0 :   1.0 :     1 : False : False : Binary\n",
      "         (7, 28) :     0 :   1.0 :     1 : False : False : Binary\n",
      "         (7, 29) :     0 :   1.0 :     1 : False : False : Binary\n",
      "         (7, 30) :     0 :   1.0 :     1 : False : False : Binary\n",
      "          (8, 1) :     0 :   0.0 :     1 : False : False : Binary\n",
      "          (8, 2) :     0 :   1.0 :     1 : False : False : Binary\n",
      "          (8, 3) :     0 :   1.0 :     1 : False : False : Binary\n",
      "          (8, 4) :     0 :   1.0 :     1 : False : False : Binary\n",
      "          (8, 5) :     0 :   1.0 :     1 : False : False : Binary\n",
      "          (8, 6) :     0 :   1.0 :     1 : False : False : Binary\n",
      "          (8, 7) :     0 :   1.0 :     1 : False : False : Binary\n",
      "          (8, 8) :     0 :   0.0 :     1 : False : False : Binary\n",
      "          (8, 9) :     0 :   1.0 :     1 : False : False : Binary\n",
      "         (8, 10) :     0 :   0.0 :     1 : False : False : Binary\n",
      "         (8, 11) :     0 :   0.0 :     1 : False : False : Binary\n",
      "         (8, 12) :     0 :   0.0 :     1 : False : False : Binary\n",
      "         (8, 13) :     0 :   1.0 :     1 : False : False : Binary\n",
      "         (8, 14) :     0 :   1.0 :     1 : False : False : Binary\n",
      "         (8, 15) :     0 :   1.0 :     1 : False : False : Binary\n",
      "         (8, 16) :     0 :   1.0 :     1 : False : False : Binary\n",
      "         (8, 17) :     0 :   1.0 :     1 : False : False : Binary\n",
      "         (8, 18) :     0 :   1.0 :     1 : False : False : Binary\n",
      "         (8, 19) :     0 :   1.0 :     1 : False : False : Binary\n",
      "         (8, 20) :     0 :   1.0 :     1 : False : False : Binary\n",
      "         (8, 21) :     0 :   1.0 :     1 : False : False : Binary\n",
      "         (8, 22) :     0 :   1.0 :     1 : False : False : Binary\n",
      "         (8, 23) :     0 :   1.0 :     1 : False : False : Binary\n",
      "         (8, 24) :     0 :   1.0 :     1 : False : False : Binary\n",
      "         (8, 25) :     0 :   1.0 :     1 : False : False : Binary\n",
      "         (8, 26) :     0 :   1.0 :     1 : False : False : Binary\n",
      "         (8, 27) :     0 :   1.0 :     1 : False : False : Binary\n",
      "         (8, 28) :     0 :   1.0 :     1 : False : False : Binary\n",
      "         (8, 29) :     0 :   1.0 :     1 : False : False : Binary\n",
      "         (8, 30) :     0 :   1.0 :     1 : False : False : Binary\n",
      "          (9, 1) :     0 :   0.0 :     1 : False : False : Binary\n",
      "          (9, 2) :     0 :   0.0 :     1 : False : False : Binary\n",
      "          (9, 3) :     0 :   0.0 :     1 : False : False : Binary\n",
      "          (9, 4) :     0 :   0.0 :     1 : False : False : Binary\n",
      "          (9, 5) :     0 :   0.0 :     1 : False : False : Binary\n",
      "          (9, 6) :     0 :   0.0 :     1 : False : False : Binary\n",
      "          (9, 7) :     0 :   0.0 :     1 : False : False : Binary\n",
      "          (9, 8) :     0 :   1.0 :     1 : False : False : Binary\n",
      "          (9, 9) :     0 :   0.0 :     1 : False : False : Binary\n",
      "         (9, 10) :     0 :   0.0 :     1 : False : False : Binary\n",
      "         (9, 11) :     0 :   0.0 :     1 : False : False : Binary\n",
      "         (9, 12) :     0 :   0.0 :     1 : False : False : Binary\n",
      "         (9, 13) :     0 :   1.0 :     1 : False : False : Binary\n",
      "         (9, 14) :     0 :   1.0 :     1 : False : False : Binary\n",
      "         (9, 15) :     0 :   1.0 :     1 : False : False : Binary\n",
      "         (9, 16) :     0 :   1.0 :     1 : False : False : Binary\n",
      "         (9, 17) :     0 :   1.0 :     1 : False : False : Binary\n",
      "         (9, 18) :     0 :   1.0 :     1 : False : False : Binary\n",
      "         (9, 19) :     0 :   1.0 :     1 : False : False : Binary\n",
      "         (9, 20) :     0 :   1.0 :     1 : False : False : Binary\n",
      "         (9, 21) :     0 :   1.0 :     1 : False : False : Binary\n",
      "         (9, 22) :     0 :   1.0 :     1 : False : False : Binary\n",
      "         (9, 23) :     0 :   1.0 :     1 : False : False : Binary\n",
      "         (9, 24) :     0 :   1.0 :     1 : False : False : Binary\n",
      "         (9, 25) :     0 :   1.0 :     1 : False : False : Binary\n",
      "         (9, 26) :     0 :   1.0 :     1 : False : False : Binary\n",
      "         (9, 27) :     0 :   1.0 :     1 : False : False : Binary\n",
      "         (9, 28) :     0 :   1.0 :     1 : False : False : Binary\n",
      "         (9, 29) :     0 :   1.0 :     1 : False : False : Binary\n",
      "         (9, 30) :     0 :   1.0 :     1 : False : False : Binary\n",
      "         (10, 1) :     0 :   0.0 :     1 : False : False : Binary\n",
      "         (10, 2) :     0 :   0.0 :     1 : False : False : Binary\n",
      "         (10, 3) :     0 :   0.0 :     1 : False : False : Binary\n",
      "         (10, 4) :     0 :   0.0 :     1 : False : False : Binary\n",
      "         (10, 5) :     0 :   0.0 :     1 : False : False : Binary\n",
      "         (10, 6) :     0 :   0.0 :     1 : False : False : Binary\n",
      "         (10, 7) :     0 :   0.0 :     1 : False : False : Binary\n",
      "         (10, 8) :     0 :   0.0 :     1 : False : False : Binary\n",
      "         (10, 9) :     0 :   0.0 :     1 : False : False : Binary\n",
      "        (10, 10) :     0 :   0.0 :     1 : False : False : Binary\n",
      "        (10, 11) :     0 :   0.0 :     1 : False : False : Binary\n",
      "        (10, 12) :     0 :   0.0 :     1 : False : False : Binary\n",
      "        (10, 13) :     0 :   1.0 :     1 : False : False : Binary\n",
      "        (10, 14) :     0 :   1.0 :     1 : False : False : Binary\n",
      "        (10, 15) :     0 :   1.0 :     1 : False : False : Binary\n",
      "        (10, 16) :     0 :   1.0 :     1 : False : False : Binary\n",
      "        (10, 17) :     0 :   1.0 :     1 : False : False : Binary\n",
      "        (10, 18) :     0 :   1.0 :     1 : False : False : Binary\n",
      "        (10, 19) :     0 :   1.0 :     1 : False : False : Binary\n",
      "        (10, 20) :     0 :   1.0 :     1 : False : False : Binary\n",
      "        (10, 21) :     0 :   1.0 :     1 : False : False : Binary\n",
      "        (10, 22) :     0 :   1.0 :     1 : False : False : Binary\n",
      "        (10, 23) :     0 :   1.0 :     1 : False : False : Binary\n",
      "        (10, 24) :     0 :   1.0 :     1 : False : False : Binary\n",
      "        (10, 25) :     0 :   1.0 :     1 : False : False : Binary\n",
      "        (10, 26) :     0 :   1.0 :     1 : False : False : Binary\n",
      "        (10, 27) :     0 :   1.0 :     1 : False : False : Binary\n",
      "        (10, 28) :     0 :   1.0 :     1 : False : False : Binary\n",
      "        (10, 29) :     0 :   1.0 :     1 : False : False : Binary\n",
      "        (10, 30) :     0 :   1.0 :     1 : False : False : Binary\n",
      "         (11, 1) :     0 :   0.0 :     1 : False : False : Binary\n",
      "         (11, 2) :     0 :   0.0 :     1 : False : False : Binary\n",
      "         (11, 3) :     0 :   0.0 :     1 : False : False : Binary\n",
      "         (11, 4) :     0 :   0.0 :     1 : False : False : Binary\n",
      "         (11, 5) :     0 :   0.0 :     1 : False : False : Binary\n",
      "         (11, 6) :     0 :   0.0 :     1 : False : False : Binary\n",
      "         (11, 7) :     0 :   0.0 :     1 : False : False : Binary\n",
      "         (11, 8) :     0 :   0.0 :     1 : False : False : Binary\n",
      "         (11, 9) :     0 :   0.0 :     1 : False : False : Binary\n",
      "        (11, 10) :     0 :   0.0 :     1 : False : False : Binary\n",
      "        (11, 11) :     0 :   0.0 :     1 : False : False : Binary\n",
      "        (11, 12) :     0 :   0.0 :     1 : False : False : Binary\n",
      "        (11, 13) :     0 :   1.0 :     1 : False : False : Binary\n",
      "        (11, 14) :     0 :   1.0 :     1 : False : False : Binary\n",
      "        (11, 15) :     0 :   1.0 :     1 : False : False : Binary\n",
      "        (11, 16) :     0 :   1.0 :     1 : False : False : Binary\n",
      "        (11, 17) :     0 :   1.0 :     1 : False : False : Binary\n",
      "        (11, 18) :     0 :   1.0 :     1 : False : False : Binary\n",
      "        (11, 19) :     0 :   1.0 :     1 : False : False : Binary\n",
      "        (11, 20) :     0 :   1.0 :     1 : False : False : Binary\n",
      "        (11, 21) :     0 :   1.0 :     1 : False : False : Binary\n",
      "        (11, 22) :     0 :   1.0 :     1 : False : False : Binary\n",
      "        (11, 23) :     0 :   1.0 :     1 : False : False : Binary\n",
      "        (11, 24) :     0 :   1.0 :     1 : False : False : Binary\n",
      "        (11, 25) :     0 :   1.0 :     1 : False : False : Binary\n",
      "        (11, 26) :     0 :   1.0 :     1 : False : False : Binary\n",
      "        (11, 27) :     0 :   1.0 :     1 : False : False : Binary\n",
      "        (11, 28) :     0 :   1.0 :     1 : False : False : Binary\n",
      "        (11, 29) :     0 :   1.0 :     1 : False : False : Binary\n",
      "        (11, 30) :     0 :   1.0 :     1 : False : False : Binary\n",
      "         (12, 1) :     0 :   0.0 :     1 : False : False : Binary\n",
      "         (12, 2) :     0 :   0.0 :     1 : False : False : Binary\n",
      "         (12, 3) :     0 :   0.0 :     1 : False : False : Binary\n",
      "         (12, 4) :     0 :   0.0 :     1 : False : False : Binary\n",
      "         (12, 5) :     0 :   0.0 :     1 : False : False : Binary\n",
      "         (12, 6) :     0 :   0.0 :     1 : False : False : Binary\n",
      "         (12, 7) :     0 :   0.0 :     1 : False : False : Binary\n",
      "         (12, 8) :     0 :   0.0 :     1 : False : False : Binary\n",
      "         (12, 9) :     0 :   0.0 :     1 : False : False : Binary\n",
      "        (12, 10) :     0 :   0.0 :     1 : False : False : Binary\n",
      "        (12, 11) :     0 :   0.0 :     1 : False : False : Binary\n",
      "        (12, 12) :     0 :   0.0 :     1 : False : False : Binary\n",
      "        (12, 13) :     0 :   1.0 :     1 : False : False : Binary\n",
      "        (12, 14) :     0 :   1.0 :     1 : False : False : Binary\n",
      "        (12, 15) :     0 :   1.0 :     1 : False : False : Binary\n",
      "        (12, 16) :     0 :   1.0 :     1 : False : False : Binary\n",
      "        (12, 17) :     0 :   1.0 :     1 : False : False : Binary\n",
      "        (12, 18) :     0 :   1.0 :     1 : False : False : Binary\n",
      "        (12, 19) :     0 :   1.0 :     1 : False : False : Binary\n",
      "        (12, 20) :     0 :   1.0 :     1 : False : False : Binary\n",
      "        (12, 21) :     0 :   1.0 :     1 : False : False : Binary\n",
      "        (12, 22) :     0 :   1.0 :     1 : False : False : Binary\n",
      "        (12, 23) :     0 :   1.0 :     1 : False : False : Binary\n",
      "        (12, 24) :     0 :   1.0 :     1 : False : False : Binary\n",
      "        (12, 25) :     0 :   1.0 :     1 : False : False : Binary\n",
      "        (12, 26) :     0 :   1.0 :     1 : False : False : Binary\n",
      "        (12, 27) :     0 :   1.0 :     1 : False : False : Binary\n",
      "        (12, 28) :     0 :   1.0 :     1 : False : False : Binary\n",
      "        (12, 29) :     0 :   1.0 :     1 : False : False : Binary\n",
      "        (12, 30) :     0 :   1.0 :     1 : False : False : Binary\n",
      "\n",
      "  Objectives:\n",
      "    obj : Size=1, Index=None, Active=True\n",
      "        Key  : Active : Value\n",
      "        None :   True : 10772.666666666666\n",
      "\n",
      "  Constraints:\n",
      "    const_profs : Size=12\n",
      "        Key : Lower : Body : Upper\n",
      "          1 :   1.0 :  1.0 :   1.0\n",
      "          2 :   1.0 :  1.0 :   1.0\n",
      "          3 :   1.0 :  1.0 :   1.0\n",
      "          4 :   1.0 :  1.0 :   1.0\n",
      "          5 :   1.0 :  1.0 :   1.0\n",
      "          6 :   1.0 :  1.0 :   1.0\n",
      "          7 :   1.0 :  1.0 :   1.0\n",
      "          8 :   1.0 :  1.0 :   1.0\n",
      "          9 :   1.0 :  1.0 :   1.0\n",
      "         10 :   1.0 :  1.0 :   1.0\n",
      "         11 :   1.0 :  1.0 :   1.0\n",
      "         12 :   1.0 :  1.0 :   1.0\n"
     ]
    }
   ],
   "source": [
    "model.display()"
   ]
  }
 ],
 "metadata": {
  "kernelspec": {
   "display_name": "Python 3 (ipykernel)",
   "language": "python",
   "name": "python3"
  },
  "language_info": {
   "codemirror_mode": {
    "name": "ipython",
    "version": 3
   },
   "file_extension": ".py",
   "mimetype": "text/x-python",
   "name": "python",
   "nbconvert_exporter": "python",
   "pygments_lexer": "ipython3",
   "version": "3.10.9"
  }
 },
 "nbformat": 4,
 "nbformat_minor": 5
}
